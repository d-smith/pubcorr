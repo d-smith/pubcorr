{
 "cells": [
  {
   "cell_type": "code",
   "execution_count": null,
   "metadata": {},
   "outputs": [],
   "source": [
    "import boto3\n",
    "import botocore\n",
    "\n",
    "\n",
    "client = boto3.client('logs')"
   ]
  },
  {
   "cell_type": "code",
   "execution_count": null,
   "metadata": {},
   "outputs": [],
   "source": [
    "import os\n",
    "account_no = os.environ['ACCOUNT_NO']\n",
    "region = os.environ['AWS_REGION']"
   ]
  },
  {
   "cell_type": "markdown",
   "metadata": {},
   "source": [
    "### FIltered LogSubscription Setup"
   ]
  },
  {
   "cell_type": "code",
   "execution_count": null,
   "metadata": {},
   "outputs": [],
   "source": [
    "firehose = \"arn:aws:firehose:{}:{}:deliverystream/loghose-dev-firehose-delivery-stream\".format(region, account_no)\n",
    "logRole = \"arn:aws:iam::{}:role/loghose-dev-logs-delivery-role\".format(account_no)"
   ]
  },
  {
   "cell_type": "code",
   "execution_count": null,
   "metadata": {},
   "outputs": [],
   "source": [
    "client.put_subscription_filter(\n",
    "    logGroupName='/aws/lambda/wrap-and-pub-dev-wrapPub',\n",
    "    filterName='pub-context-filter',\n",
    "    filterPattern='PublishContext',\n",
    "    destinationArn=firehose,\n",
    "    roleArn=logRole,\n",
    "    distribution='Random'\n",
    ")"
   ]
  },
  {
   "cell_type": "code",
   "execution_count": null,
   "metadata": {},
   "outputs": [],
   "source": [
    "client.describe_subscription_filters(\n",
    "    logGroupName='/aws/lambda/wrap-and-pub-dev-wrapPub'\n",
    ")"
   ]
  }
 ],
 "metadata": {
  "kernelspec": {
   "display_name": "Python 3",
   "language": "python",
   "name": "python3"
  },
  "language_info": {
   "codemirror_mode": {
    "name": "ipython",
    "version": 3
   },
   "file_extension": ".py",
   "mimetype": "text/x-python",
   "name": "python",
   "nbconvert_exporter": "python",
   "pygments_lexer": "ipython3",
   "version": "3.9.1"
  }
 },
 "nbformat": 4,
 "nbformat_minor": 2
}
