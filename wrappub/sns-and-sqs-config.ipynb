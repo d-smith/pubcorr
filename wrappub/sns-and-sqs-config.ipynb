{
 "cells": [
  {
   "cell_type": "code",
   "execution_count": 1,
   "metadata": {},
   "outputs": [],
   "source": [
    "import boto3\n",
    "import botocore\n",
    "\n",
    "\n",
    "sns = boto3.client('sns')\n",
    "sqs = boto3.client('sqs')"
   ]
  },
  {
   "cell_type": "code",
   "execution_count": 2,
   "metadata": {},
   "outputs": [],
   "source": [
    "import os\n",
    "account_no = os.environ['ACCOUNT_NO']"
   ]
  },
  {
   "cell_type": "markdown",
   "metadata": {},
   "source": [
    "### Set Up Delivery Failure Notification"
   ]
  },
  {
   "cell_type": "code",
   "execution_count": 3,
   "metadata": {},
   "outputs": [],
   "source": [
    "failureNotificationRoleArn = 'arn:aws:iam::{}:role/SNSFailureFeedback'.format(account_no)"
   ]
  },
  {
   "cell_type": "code",
   "execution_count": 4,
   "metadata": {},
   "outputs": [],
   "source": [
    "# Set this to the serverless deployment stage name\n",
    "stage = 'dev'\n",
    "topic_arn = 'arn:aws:sns:us-east-1:' + account_no + ':t1-' + stage"
   ]
  },
  {
   "cell_type": "code",
   "execution_count": 5,
   "metadata": {},
   "outputs": [
    {
     "name": "stdout",
     "output_type": "stream",
     "text": [
      "{'ResponseMetadata': {'RequestId': '72af0c96-e2a9-524c-8c55-55d296ed352f', 'HTTPStatusCode': 200, 'HTTPHeaders': {'x-amzn-requestid': '72af0c96-e2a9-524c-8c55-55d296ed352f', 'content-type': 'text/xml', 'content-length': '215', 'date': 'Wed, 16 Jun 2021 21:49:56 GMT'}, 'RetryAttempts': 0}}\n"
     ]
    }
   ],
   "source": [
    "# Modify the topic to enable delivery failure logging. This cannot be done via cloud\n",
    "# formation at the moment.\n",
    "tar = sns.set_topic_attributes(\n",
    "    TopicArn=topic_arn,\n",
    "    AttributeName='SQSFailureFeedbackRoleArn',\n",
    "    AttributeValue=failureNotificationRoleArn\n",
    ")\n",
    "print(tar)"
   ]
  },
  {
   "cell_type": "markdown",
   "metadata": {},
   "source": [
    "### Set Up a Doomed SQS Subscription\n",
    "\n",
    "This is to force delivery failures so we can detect and process those."
   ]
  },
  {
   "cell_type": "code",
   "execution_count": 6,
   "metadata": {},
   "outputs": [
    {
     "name": "stdout",
     "output_type": "stream",
     "text": [
      "{'QueueUrl': 'https://queue.amazonaws.com/427848627088/sampleQueue-dev', 'ResponseMetadata': {'RequestId': 'c449b37b-d8d2-568d-8200-ea3fac9b85b8', 'HTTPStatusCode': 200, 'HTTPHeaders': {'x-amzn-requestid': 'c449b37b-d8d2-568d-8200-ea3fac9b85b8', 'date': 'Wed, 16 Jun 2021 21:50:01 GMT', 'content-type': 'text/xml', 'content-length': '327'}, 'RetryAttempts': 0}}\n"
     ]
    }
   ],
   "source": [
    "cq = sqs.create_queue(\n",
    "    QueueName='sampleQueue-' + stage\n",
    ")\n",
    "print(cq)\n",
    "queue_url = cq['QueueUrl']\n",
    "queue_arn = 'arn:aws:sqs:us-east-1:' + account_no + ':sampleQueue-' + stage"
   ]
  },
  {
   "cell_type": "code",
   "execution_count": 7,
   "metadata": {},
   "outputs": [
    {
     "data": {
      "text/plain": [
       "{'SubscriptionArn': 'arn:aws:sns:us-east-1:427848627088:t1-dev:51ae3c4f-ecc0-4d78-adf8-ac6a2f17ced1',\n",
       " 'ResponseMetadata': {'RequestId': 'ba7f0f59-7ecb-5bb4-ba32-561d0a874817',\n",
       "  'HTTPStatusCode': 200,\n",
       "  'HTTPHeaders': {'x-amzn-requestid': 'ba7f0f59-7ecb-5bb4-ba32-561d0a874817',\n",
       "   'content-type': 'text/xml',\n",
       "   'content-length': '356',\n",
       "   'date': 'Wed, 16 Jun 2021 21:50:04 GMT'},\n",
       "  'RetryAttempts': 0}}"
      ]
     },
     "execution_count": 7,
     "metadata": {},
     "output_type": "execute_result"
    }
   ],
   "source": [
    "sns.subscribe(\n",
    "    TopicArn='arn:aws:sns:us-east-1:' + account_no + ':t1-' + stage,\n",
    "    Protocol='sqs',\n",
    "    Endpoint=queue_arn\n",
    ")"
   ]
  },
  {
   "cell_type": "code",
   "execution_count": 8,
   "metadata": {},
   "outputs": [],
   "source": [
    "def allow_sns_to_write_to_sqs(topicarn, queuearn):\n",
    "    policy_document = \"\"\"{{\n",
    "  \"Version\":\"2012-10-17\",\n",
    "  \"Statement\":[\n",
    "    {{\n",
    "      \"Sid\":\"MyPolicy\",\n",
    "      \"Effect\":\"Allow\",\n",
    "      \"Principal\" : {{\"AWS\" : \"*\"}},\n",
    "      \"Action\":\"SQS:SendMessage\",\n",
    "      \"Resource\": \"{}\",\n",
    "      \"Condition\":{{\n",
    "        \"ArnLike\":{{\n",
    "          \"aws:SourceArn\": \"{}noworky\"\n",
    "        }}\n",
    "      }}\n",
    "    }}\n",
    "  ]\n",
    "}}\"\"\".format(queuearn, topicarn)\n",
    "\n",
    "    return policy_document"
   ]
  },
  {
   "cell_type": "code",
   "execution_count": 9,
   "metadata": {},
   "outputs": [
    {
     "name": "stdout",
     "output_type": "stream",
     "text": [
      "{'ResponseMetadata': {'RequestId': '4bc79cce-9ee3-5baa-b101-c58aeab1389f', 'HTTPStatusCode': 200, 'HTTPHeaders': {'x-amzn-requestid': '4bc79cce-9ee3-5baa-b101-c58aeab1389f', 'date': 'Wed, 16 Jun 2021 21:50:10 GMT', 'content-type': 'text/xml', 'content-length': '225'}, 'RetryAttempts': 0}}\n"
     ]
    }
   ],
   "source": [
    "#policy_json = allow_sns_to_write_to_sqs(topic_arn1, queue_arn)\n",
    "policy_json = allow_sns_to_write_to_sqs('arn:aws:sns:us-east-1:' + account_no + ':*', queue_arn)\n",
    "\n",
    "response = sqs.set_queue_attributes(\n",
    "    QueueUrl = queue_url,\n",
    "    Attributes = {\n",
    "        'Policy' : policy_json\n",
    "    }\n",
    ")\n",
    "print(response)"
   ]
  },
  {
   "cell_type": "markdown",
   "metadata": {},
   "source": [
    "### Delivery Log Queries"
   ]
  },
  {
   "cell_type": "code",
   "execution_count": 10,
   "metadata": {},
   "outputs": [],
   "source": [
    "client = boto3.client('logs')"
   ]
  },
  {
   "cell_type": "code",
   "execution_count": 16,
   "metadata": {
    "scrolled": true
   },
   "outputs": [
    {
     "name": "stdout",
     "output_type": "stream",
     "text": [
      "{'queryId': '87320d8c-20e2-4036-a8c8-a7ce962d1c7a', 'ResponseMetadata': {'RequestId': '94568e95-1e92-4a9b-b6a9-d18484861872', 'HTTPStatusCode': 200, 'HTTPHeaders': {'x-amzn-requestid': '94568e95-1e92-4a9b-b6a9-d18484861872', 'content-type': 'application/x-amz-json-1.1', 'content-length': '50', 'date': 'Wed, 16 Jun 2021 21:53:38 GMT'}, 'RetryAttempts': 0}}\n"
     ]
    }
   ],
   "source": [
    "import time\n",
    "nowish = int(time.time())\n",
    "hour_ago = nowish - (60*60)\n",
    "\n",
    "q = client.start_query(\n",
    "    logGroupName='sns/us-east-1/427848627088/t1-' + stage + '/Failure',\n",
    "    startTime=hour_ago,\n",
    "    endTime=nowish,\n",
    "    queryString='fields @timestamp, @message | sort @timestamp desc | limit 20',\n",
    "    limit=123\n",
    ")\n",
    "\n",
    "print(q)"
   ]
  },
  {
   "cell_type": "code",
   "execution_count": 17,
   "metadata": {},
   "outputs": [
    {
     "name": "stdout",
     "output_type": "stream",
     "text": [
      "{'results': [[{'field': '@timestamp', 'value': '2021-06-16 21:52:53.052'}, {'field': '@message', 'value': '{\"notification\":{\"messageMD5Sum\":\"d67ee3f245f9ed1e1c7825752cc52d39\",\"messageId\":\"e58e478a-c640-5d2c-b0ed-1eceb2af453e\",\"topicArn\":\"arn:aws:sns:us-east-1:427848627088:t1-dev\",\"timestamp\":\"2021-06-16 21:52:47.071\"},\"delivery\":{\"deliveryId\":\"3397ae8c-4cea-5bae-ba03-f7c838050593\",\"destination\":\"arn:aws:sqs:us-east-1:427848627088:sampleQueue-dev\",\"providerResponse\":\"{\\\\\"ErrorCode\\\\\":\\\\\"AccessDenied\\\\\",\\\\\"ErrorMessage\\\\\":\\\\\"Access to the resource https://sqs.us-east-1.amazonaws.com/427848627088/sampleQueue-dev is denied.\\\\\",\\\\\"sqsRequestId\\\\\":\\\\\"Unrecoverable\\\\\"}\",\"dwellTimeMs\":37,\"attempts\":1,\"statusCode\":403},\"status\":\"FAILURE\"}'}, {'field': '@ptr', 'value': 'CnMKOgo2NDI3ODQ4NjI3MDg4OnNucy91cy1lYXN0LTEvNDI3ODQ4NjI3MDg4L3QxLWRldi9GYWlsdXJlEAYSNRoYAgXqfi4OAAAAB21kqaAABgynJIAAAADiIAEovKbAtqEvMLymwLahLzgBQIsFSOARUJgKEAAYAQ=='}]], 'statistics': {'recordsMatched': 1.0, 'recordsScanned': 1.0, 'bytesScanned': 651.0}, 'status': 'Running', 'ResponseMetadata': {'RequestId': 'a9051e13-701e-4c37-b896-ac2441b6f93c', 'HTTPStatusCode': 200, 'HTTPHeaders': {'x-amzn-requestid': 'a9051e13-701e-4c37-b896-ac2441b6f93c', 'content-type': 'application/x-amz-json-1.1', 'content-length': '1079', 'date': 'Wed, 16 Jun 2021 21:53:39 GMT'}, 'RetryAttempts': 0}}\n"
     ]
    }
   ],
   "source": [
    "r = client.get_query_results(queryId=q['queryId'])\n",
    "print(r)"
   ]
  },
  {
   "cell_type": "markdown",
   "metadata": {},
   "source": [
    "### Publish Log Queries"
   ]
  },
  {
   "cell_type": "code",
   "execution_count": null,
   "metadata": {},
   "outputs": [],
   "source": [
    "# Everything in the log\n",
    "import time\n",
    "nowish = int(time.time())\n",
    "hour_ago = nowish - (60*60)\n",
    "\n",
    "q = client.start_query(\n",
    "    logGroupName='/aws/lambda/wrap-and-pub-dev-wrapPub',\n",
    "    startTime=hour_ago,\n",
    "    endTime=nowish,\n",
    "    queryString='fields @timestamp, @message | sort @timestamp desc | limit 20',\n",
    "    limit=123\n",
    ")\n",
    "\n",
    "print(q)"
   ]
  },
  {
   "cell_type": "code",
   "execution_count": null,
   "metadata": {},
   "outputs": [],
   "source": [
    "# Just the correlations\n",
    "import time\n",
    "nowish = int(time.time())\n",
    "hour_ago = nowish - (15*60)\n",
    "\n",
    "q = client.start_query(\n",
    "    logGroupName='/aws/lambda/wrap-and-pub-dev-wrapPub',\n",
    "    startTime=hour_ago,\n",
    "    endTime=nowish,\n",
    "    queryString='filter @message like /PublishContext/ | fields @timestamp, @message | sort @timestamp desc | limit 20',\n",
    "    limit=123\n",
    ")\n",
    "\n",
    "print(q)"
   ]
  },
  {
   "cell_type": "code",
   "execution_count": null,
   "metadata": {},
   "outputs": [],
   "source": [
    "r = client.get_query_results(queryId=q['queryId'])\n",
    "print(r)"
   ]
  },
  {
   "cell_type": "markdown",
   "metadata": {},
   "source": [
    "### Clean Up"
   ]
  },
  {
   "cell_type": "code",
   "execution_count": null,
   "metadata": {},
   "outputs": [],
   "source": [
    "try:\n",
    "    sqs.delete_queue(\n",
    "        QueueUrl='https://queue.amazonaws.com/' + account_no + '/sampleQueue'\n",
    "    )\n",
    "    print('queue deleted')\n",
    "except botocore.exceptions.ClientError as error:\n",
    "    if error.response['Error']['Code'] == 'AWS.SimpleQueueService.NonExistentQueue':\n",
    "        print('queue deleted')\n",
    "    else:\n",
    "        raise error"
   ]
  },
  {
   "cell_type": "code",
   "execution_count": null,
   "metadata": {},
   "outputs": [],
   "source": []
  }
 ],
 "metadata": {
  "kernelspec": {
   "display_name": "Python 3",
   "language": "python",
   "name": "python3"
  },
  "language_info": {
   "codemirror_mode": {
    "name": "ipython",
    "version": 3
   },
   "file_extension": ".py",
   "mimetype": "text/x-python",
   "name": "python",
   "nbconvert_exporter": "python",
   "pygments_lexer": "ipython3",
   "version": "3.9.1"
  }
 },
 "nbformat": 4,
 "nbformat_minor": 2
}
