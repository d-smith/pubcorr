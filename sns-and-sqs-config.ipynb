{
 "cells": [
  {
   "cell_type": "code",
   "execution_count": null,
   "metadata": {},
   "outputs": [],
   "source": [
    "import boto3\n",
    "import botocore\n",
    "\n",
    "\n",
    "sns = boto3.client('sns')\n",
    "sqs = boto3.client('sqs')"
   ]
  },
  {
   "cell_type": "code",
   "execution_count": null,
   "metadata": {},
   "outputs": [],
   "source": [
    "import os\n",
    "account_no = os.environ['ACCOUNT_NO']"
   ]
  },
  {
   "cell_type": "markdown",
   "metadata": {},
   "source": [
    "### Set Up Delivery Failure Notification"
   ]
  },
  {
   "cell_type": "code",
   "execution_count": null,
   "metadata": {},
   "outputs": [],
   "source": [
    "failureNotificationRoleArn = 'arn:aws:iam::{}:role/SNSFailureFeedback'.format(account_no)"
   ]
  },
  {
   "cell_type": "code",
   "execution_count": null,
   "metadata": {},
   "outputs": [],
   "source": [
    "# Set this to the serverless deployment stage name\n",
    "stage = 'dev'\n",
    "topic_arn = 'arn:aws:sns:us-east-1:' + account_no + ':t1-' + stage"
   ]
  },
  {
   "cell_type": "code",
   "execution_count": null,
   "metadata": {},
   "outputs": [],
   "source": [
    "# Modify the topic to enable delivery failure logging. This cannot be done via cloud\n",
    "# formation at the moment.\n",
    "tar = sns.set_topic_attributes(\n",
    "    TopicArn=topic_arn,\n",
    "    AttributeName='SQSFailureFeedbackRoleArn',\n",
    "    AttributeValue=failureNotificationRoleArn\n",
    ")\n",
    "print(tar)"
   ]
  },
  {
   "cell_type": "markdown",
   "metadata": {},
   "source": [
    "### Set Up a Doomed SQS Subscription\n",
    "\n",
    "This is to force delivery failures so we can detect and process those."
   ]
  },
  {
   "cell_type": "code",
   "execution_count": null,
   "metadata": {},
   "outputs": [],
   "source": [
    "cq = sqs.create_queue(\n",
    "    QueueName='sampleQueue-' + stage\n",
    ")\n",
    "print(cq)\n",
    "queue_url = cq['QueueUrl']\n",
    "queue_arn = 'arn:aws:sqs:us-east-1:' + account_no + ':sampleQueue-' + stage"
   ]
  },
  {
   "cell_type": "code",
   "execution_count": null,
   "metadata": {},
   "outputs": [],
   "source": [
    "sns.subscribe(\n",
    "    TopicArn='arn:aws:sns:us-east-1:' + account_no + ':t1-' + stage,\n",
    "    Protocol='sqs',\n",
    "    Endpoint=queue_arn\n",
    ")"
   ]
  },
  {
   "cell_type": "code",
   "execution_count": null,
   "metadata": {},
   "outputs": [],
   "source": [
    "def allow_sns_to_write_to_sqs(topicarn, queuearn):\n",
    "    policy_document = \"\"\"{{\n",
    "  \"Version\":\"2012-10-17\",\n",
    "  \"Statement\":[\n",
    "    {{\n",
    "      \"Sid\":\"MyPolicy\",\n",
    "      \"Effect\":\"Allow\",\n",
    "      \"Principal\" : {{\"AWS\" : \"*\"}},\n",
    "      \"Action\":\"SQS:SendMessage\",\n",
    "      \"Resource\": \"{}\",\n",
    "      \"Condition\":{{\n",
    "        \"ArnLike\":{{\n",
    "          \"aws:SourceArn\": \"{}noworky\"\n",
    "        }}\n",
    "      }}\n",
    "    }}\n",
    "  ]\n",
    "}}\"\"\".format(queuearn, topicarn)\n",
    "\n",
    "    return policy_document"
   ]
  },
  {
   "cell_type": "code",
   "execution_count": null,
   "metadata": {},
   "outputs": [],
   "source": [
    "#policy_json = allow_sns_to_write_to_sqs(topic_arn1, queue_arn)\n",
    "policy_json = allow_sns_to_write_to_sqs('arn:aws:sns:us-east-1:' + account_no + ':*', queue_arn)\n",
    "\n",
    "response = sqs.set_queue_attributes(\n",
    "    QueueUrl = queue_url,\n",
    "    Attributes = {\n",
    "        'Policy' : policy_json\n",
    "    }\n",
    ")\n",
    "print(response)"
   ]
  },
  {
   "cell_type": "markdown",
   "metadata": {},
   "source": [
    "### Delivery Log Queries"
   ]
  },
  {
   "cell_type": "code",
   "execution_count": null,
   "metadata": {},
   "outputs": [],
   "source": [
    "client = boto3.client('logs')"
   ]
  },
  {
   "cell_type": "code",
   "execution_count": null,
   "metadata": {
    "scrolled": true
   },
   "outputs": [],
   "source": [
    "import time\n",
    "nowish = int(time.time())\n",
    "hour_ago = nowish - (60*60)\n",
    "\n",
    "q = client.start_query(\n",
    "    logGroupName='sns/us-east-1/427848627088/t1-' + stage + '/Failure',\n",
    "    startTime=hour_ago,\n",
    "    endTime=nowish,\n",
    "    queryString='fields @timestamp, @message | sort @timestamp desc | limit 20',\n",
    "    limit=123\n",
    ")\n",
    "\n",
    "print(q)"
   ]
  },
  {
   "cell_type": "code",
   "execution_count": null,
   "metadata": {},
   "outputs": [],
   "source": [
    "r = client.get_query_results(queryId=q['queryId'])\n",
    "print(r)"
   ]
  },
  {
   "cell_type": "markdown",
   "metadata": {},
   "source": [
    "### Publish Log Queries"
   ]
  },
  {
   "cell_type": "code",
   "execution_count": null,
   "metadata": {},
   "outputs": [],
   "source": [
    "# Everything in the log\n",
    "import time\n",
    "nowish = int(time.time())\n",
    "hour_ago = nowish - (60*60)\n",
    "\n",
    "q = client.start_query(\n",
    "    logGroupName='/aws/lambda/wrap-and-pub-dev-wrapPub',\n",
    "    startTime=hour_ago,\n",
    "    endTime=nowish,\n",
    "    queryString='fields @timestamp, @message | sort @timestamp desc | limit 20',\n",
    "    limit=123\n",
    ")\n",
    "\n",
    "print(q)"
   ]
  },
  {
   "cell_type": "code",
   "execution_count": null,
   "metadata": {},
   "outputs": [],
   "source": [
    "# Just the correlations\n",
    "import time\n",
    "nowish = int(time.time())\n",
    "hour_ago = nowish - (15*60)\n",
    "\n",
    "q = client.start_query(\n",
    "    logGroupName='/aws/lambda/wrap-and-pub-dev-wrapPub',\n",
    "    startTime=hour_ago,\n",
    "    endTime=nowish,\n",
    "    queryString='filter @message like /PublishContext/ | fields @timestamp, @message | sort @timestamp desc | limit 20',\n",
    "    limit=123\n",
    ")\n",
    "\n",
    "print(q)"
   ]
  },
  {
   "cell_type": "code",
   "execution_count": null,
   "metadata": {},
   "outputs": [],
   "source": [
    "r = client.get_query_results(queryId=q['queryId'])\n",
    "print(r)"
   ]
  },
  {
   "cell_type": "markdown",
   "metadata": {},
   "source": [
    "### Clean Up"
   ]
  },
  {
   "cell_type": "code",
   "execution_count": null,
   "metadata": {},
   "outputs": [],
   "source": [
    "try:\n",
    "    sqs.delete_queue(\n",
    "        QueueUrl='https://queue.amazonaws.com/' + account_no + '/sampleQueue'\n",
    "    )\n",
    "    print('queue deleted')\n",
    "except botocore.exceptions.ClientError as error:\n",
    "    if error.response['Error']['Code'] == 'AWS.SimpleQueueService.NonExistentQueue':\n",
    "        print('queue deleted')\n",
    "    else:\n",
    "        raise error"
   ]
  },
  {
   "cell_type": "code",
   "execution_count": null,
   "metadata": {},
   "outputs": [],
   "source": []
  }
 ],
 "metadata": {
  "kernelspec": {
   "display_name": "Python 3",
   "language": "python",
   "name": "python3"
  },
  "language_info": {
   "codemirror_mode": {
    "name": "ipython",
    "version": 3
   },
   "file_extension": ".py",
   "mimetype": "text/x-python",
   "name": "python",
   "nbconvert_exporter": "python",
   "pygments_lexer": "ipython3",
   "version": "3.9.1"
  }
 },
 "nbformat": 4,
 "nbformat_minor": 2
}
