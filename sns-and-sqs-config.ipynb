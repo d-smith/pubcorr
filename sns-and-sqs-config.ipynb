{
 "cells": [
  {
   "cell_type": "code",
   "execution_count": 1,
   "metadata": {},
   "outputs": [],
   "source": [
    "import boto3\n",
    "import botocore\n",
    "\n",
    "\n",
    "sns = boto3.client('sns')\n",
    "sqs = boto3.client('sqs')"
   ]
  },
  {
   "cell_type": "code",
   "execution_count": 2,
   "metadata": {},
   "outputs": [],
   "source": [
    "import os\n",
    "account_no = os.environ['ACCOUNT_NO']"
   ]
  },
  {
   "cell_type": "markdown",
   "metadata": {},
   "source": [
    "### Set Up Delivery Failure Notification"
   ]
  },
  {
   "cell_type": "code",
   "execution_count": 9,
   "metadata": {},
   "outputs": [],
   "source": [
    "failureNotificationRoleArn = 'arn:aws:iam::{}:role/SNSFailureFeedback'.format(account_no)"
   ]
  },
  {
   "cell_type": "code",
   "execution_count": 10,
   "metadata": {},
   "outputs": [],
   "source": [
    "# Set this to the serverless deployment stage name\n",
    "stage = 'dev'\n",
    "topic_arn = 'arn:aws:sns:us-east-1:' + account_no + ':t1-' + stage"
   ]
  },
  {
   "cell_type": "code",
   "execution_count": 8,
   "metadata": {},
   "outputs": [
    {
     "name": "stdout",
     "output_type": "stream",
     "text": [
      "{'ResponseMetadata': {'RequestId': 'ea7fd474-dc99-5b9f-bf84-8d37d261ed15', 'HTTPStatusCode': 200, 'HTTPHeaders': {'x-amzn-requestid': 'ea7fd474-dc99-5b9f-bf84-8d37d261ed15', 'content-type': 'text/xml', 'content-length': '215', 'date': 'Tue, 15 Jun 2021 20:25:28 GMT'}, 'RetryAttempts': 0}}\n"
     ]
    }
   ],
   "source": [
    "# Modify the topic to enable delivery failure logging. This cannot be done via cloud\n",
    "# formation at the moment.\n",
    "tar = sns.set_topic_attributes(\n",
    "    TopicArn=topic_arn,\n",
    "    AttributeName='SQSFailureFeedbackRoleArn',\n",
    "    AttributeValue=failureNotificationRoleArn\n",
    ")\n",
    "print(tar)"
   ]
  },
  {
   "cell_type": "markdown",
   "metadata": {},
   "source": [
    "### Set Up a Doomed SQS Subscription\n",
    "\n",
    "This is to force delivery failures so we can detect and process those."
   ]
  },
  {
   "cell_type": "code",
   "execution_count": 9,
   "metadata": {},
   "outputs": [
    {
     "name": "stdout",
     "output_type": "stream",
     "text": [
      "{'QueueUrl': 'https://queue.amazonaws.com/427848627088/sampleQueue-dev', 'ResponseMetadata': {'RequestId': 'b6a52fa8-d6bd-5257-88c0-76ebd95d0143', 'HTTPStatusCode': 200, 'HTTPHeaders': {'x-amzn-requestid': 'b6a52fa8-d6bd-5257-88c0-76ebd95d0143', 'date': 'Tue, 15 Jun 2021 20:29:20 GMT', 'content-type': 'text/xml', 'content-length': '327'}, 'RetryAttempts': 0}}\n"
     ]
    }
   ],
   "source": [
    "cq = sqs.create_queue(\n",
    "    QueueName='sampleQueue-' + stage\n",
    ")\n",
    "print(cq)\n",
    "queue_url = cq['QueueUrl']\n",
    "queue_arn = 'arn:aws:sqs:us-east-1:' + account_no + ':sampleQueue-' + stage"
   ]
  },
  {
   "cell_type": "code",
   "execution_count": 11,
   "metadata": {},
   "outputs": [
    {
     "data": {
      "text/plain": [
       "{'SubscriptionArn': 'arn:aws:sns:us-east-1:427848627088:t1-dev:0d221450-39ee-4ef6-9178-172ac4f037b2',\n",
       " 'ResponseMetadata': {'RequestId': '34ca3595-9a62-5ad6-bbd3-6cd68a695fb2',\n",
       "  'HTTPStatusCode': 200,\n",
       "  'HTTPHeaders': {'x-amzn-requestid': '34ca3595-9a62-5ad6-bbd3-6cd68a695fb2',\n",
       "   'content-type': 'text/xml',\n",
       "   'content-length': '356',\n",
       "   'date': 'Tue, 15 Jun 2021 20:30:03 GMT'},\n",
       "  'RetryAttempts': 0}}"
      ]
     },
     "execution_count": 11,
     "metadata": {},
     "output_type": "execute_result"
    }
   ],
   "source": [
    "sns.subscribe(\n",
    "    TopicArn='arn:aws:sns:us-east-1:' + account_no + ':t1-' + stage,\n",
    "    Protocol='sqs',\n",
    "    Endpoint=queue_arn\n",
    ")"
   ]
  },
  {
   "cell_type": "code",
   "execution_count": 12,
   "metadata": {},
   "outputs": [],
   "source": [
    "def allow_sns_to_write_to_sqs(topicarn, queuearn):\n",
    "    policy_document = \"\"\"{{\n",
    "  \"Version\":\"2012-10-17\",\n",
    "  \"Statement\":[\n",
    "    {{\n",
    "      \"Sid\":\"MyPolicy\",\n",
    "      \"Effect\":\"Allow\",\n",
    "      \"Principal\" : {{\"AWS\" : \"*\"}},\n",
    "      \"Action\":\"SQS:SendMessage\",\n",
    "      \"Resource\": \"{}\",\n",
    "      \"Condition\":{{\n",
    "        \"ArnLike\":{{\n",
    "          \"aws:SourceArn\": \"{}noworky\"\n",
    "        }}\n",
    "      }}\n",
    "    }}\n",
    "  ]\n",
    "}}\"\"\".format(queuearn, topicarn)\n",
    "\n",
    "    return policy_document"
   ]
  },
  {
   "cell_type": "code",
   "execution_count": 13,
   "metadata": {},
   "outputs": [
    {
     "name": "stdout",
     "output_type": "stream",
     "text": [
      "{'ResponseMetadata': {'RequestId': '7e10612f-37ef-52e3-adb4-386c27c92cbe', 'HTTPStatusCode': 200, 'HTTPHeaders': {'x-amzn-requestid': '7e10612f-37ef-52e3-adb4-386c27c92cbe', 'date': 'Tue, 15 Jun 2021 20:30:30 GMT', 'content-type': 'text/xml', 'content-length': '225'}, 'RetryAttempts': 0}}\n"
     ]
    }
   ],
   "source": [
    "#policy_json = allow_sns_to_write_to_sqs(topic_arn1, queue_arn)\n",
    "policy_json = allow_sns_to_write_to_sqs('arn:aws:sns:us-east-1:' + account_no + ':*', queue_arn)\n",
    "\n",
    "response = sqs.set_queue_attributes(\n",
    "    QueueUrl = queue_url,\n",
    "    Attributes = {\n",
    "        'Policy' : policy_json\n",
    "    }\n",
    ")\n",
    "print(response)"
   ]
  },
  {
   "cell_type": "markdown",
   "metadata": {},
   "source": [
    "### Delivery Log Queries"
   ]
  },
  {
   "cell_type": "code",
   "execution_count": 3,
   "metadata": {},
   "outputs": [],
   "source": [
    "client = boto3.client('logs')"
   ]
  },
  {
   "cell_type": "code",
   "execution_count": 11,
   "metadata": {
    "scrolled": true
   },
   "outputs": [
    {
     "name": "stdout",
     "output_type": "stream",
     "text": [
      "{'queryId': '914ebb39-ca72-4833-bac2-4c14008fe112', 'ResponseMetadata': {'RequestId': '2d47728a-1b0c-4c7c-8387-e42f26fc1a90', 'HTTPStatusCode': 200, 'HTTPHeaders': {'x-amzn-requestid': '2d47728a-1b0c-4c7c-8387-e42f26fc1a90', 'content-type': 'application/x-amz-json-1.1', 'content-length': '50', 'date': 'Tue, 15 Jun 2021 20:41:07 GMT'}, 'RetryAttempts': 0}}\n"
     ]
    }
   ],
   "source": [
    "import time\n",
    "nowish = int(time.time())\n",
    "hour_ago = nowish - (60*60)\n",
    "\n",
    "q = client.start_query(\n",
    "    logGroupName='sns/us-east-1/427848627088/t1-' + stage + '/Failure',\n",
    "    startTime=hour_ago,\n",
    "    endTime=nowish,\n",
    "    queryString='fields @timestamp, @message | sort @timestamp desc | limit 20',\n",
    "    limit=123\n",
    ")\n",
    "\n",
    "print(q)"
   ]
  },
  {
   "cell_type": "code",
   "execution_count": 12,
   "metadata": {},
   "outputs": [
    {
     "name": "stdout",
     "output_type": "stream",
     "text": [
      "{'results': [[{'field': '@timestamp', 'value': '2021-06-15 20:39:07.663'}, {'field': '@message', 'value': '{\"notification\":{\"messageMD5Sum\":\"b0602eeb835905924488a4d3987bafd6\",\"messageId\":\"0b63d2dc-e604-5715-9e27-8b9ff4112f5c\",\"topicArn\":\"arn:aws:sns:us-east-1:427848627088:t1-dev\",\"timestamp\":\"2021-06-15 20:38:45.719\"},\"delivery\":{\"deliveryId\":\"9e5600a5-912a-58a5-871c-59e6833f88ac\",\"destination\":\"arn:aws:sqs:us-east-1:427848627088:sampleQueue-dev\",\"providerResponse\":\"{\\\\\"ErrorCode\\\\\":\\\\\"AccessDenied\\\\\",\\\\\"ErrorMessage\\\\\":\\\\\"Access to the resource https://sqs.us-east-1.amazonaws.com/427848627088/sampleQueue-dev is denied.\\\\\",\\\\\"sqsRequestId\\\\\":\\\\\"Unrecoverable\\\\\"}\",\"dwellTimeMs\":41,\"attempts\":1,\"statusCode\":403},\"status\":\"FAILURE\"}'}, {'field': '@ptr', 'value': 'CnMKOgo2NDI3ODQ4NjI3MDg4OnNucy91cy1lYXN0LTEvNDI3ODQ4NjI3MDg4L3QxLWRldi9GYWlsdXJlEAcSNRoYAgX8OoolAAAAAI3rlIEABgyQ+eAAAABSIAEoj+GYi6EvMI/hmIuhLzgBQIsFSOERUJkKEAAYAQ=='}]], 'statistics': {'recordsMatched': 1.0, 'recordsScanned': 1.0, 'bytesScanned': 651.0}, 'status': 'Running', 'ResponseMetadata': {'RequestId': '25d293ea-8bc9-4d2b-a5a6-3c79b2bbc7bb', 'HTTPStatusCode': 200, 'HTTPHeaders': {'x-amzn-requestid': '25d293ea-8bc9-4d2b-a5a6-3c79b2bbc7bb', 'content-type': 'application/x-amz-json-1.1', 'content-length': '1079', 'date': 'Tue, 15 Jun 2021 20:41:09 GMT'}, 'RetryAttempts': 0}}\n"
     ]
    }
   ],
   "source": [
    "r = client.get_query_results(queryId=q['queryId'])\n",
    "print(r)"
   ]
  },
  {
   "cell_type": "markdown",
   "metadata": {},
   "source": [
    "### Publish Log Queries"
   ]
  },
  {
   "cell_type": "code",
   "execution_count": 13,
   "metadata": {},
   "outputs": [
    {
     "name": "stdout",
     "output_type": "stream",
     "text": [
      "{'queryId': '96fe574f-b3f4-42cc-a572-e52594dbf940', 'ResponseMetadata': {'RequestId': 'f90df3bf-a727-4043-946d-5cac28e7c889', 'HTTPStatusCode': 200, 'HTTPHeaders': {'x-amzn-requestid': 'f90df3bf-a727-4043-946d-5cac28e7c889', 'content-type': 'application/x-amz-json-1.1', 'content-length': '50', 'date': 'Tue, 15 Jun 2021 20:52:59 GMT'}, 'RetryAttempts': 0}}\n"
     ]
    }
   ],
   "source": [
    "# Everything in the log\n",
    "import time\n",
    "nowish = int(time.time())\n",
    "hour_ago = nowish - (60*60)\n",
    "\n",
    "q = client.start_query(\n",
    "    logGroupName='/aws/lambda/wrap-and-pub-dev-wrapPub',\n",
    "    startTime=hour_ago,\n",
    "    endTime=nowish,\n",
    "    queryString='fields @timestamp, @message | sort @timestamp desc | limit 20',\n",
    "    limit=123\n",
    ")\n",
    "\n",
    "print(q)"
   ]
  },
  {
   "cell_type": "code",
   "execution_count": 19,
   "metadata": {},
   "outputs": [
    {
     "name": "stdout",
     "output_type": "stream",
     "text": [
      "{'queryId': 'eb8e7f60-2c96-4596-8923-f2f9144f37dc', 'ResponseMetadata': {'RequestId': '8fd5defc-6304-4615-9ce7-cb0dfbb2f19b', 'HTTPStatusCode': 200, 'HTTPHeaders': {'x-amzn-requestid': '8fd5defc-6304-4615-9ce7-cb0dfbb2f19b', 'content-type': 'application/x-amz-json-1.1', 'content-length': '50', 'date': 'Tue, 15 Jun 2021 21:01:47 GMT'}, 'RetryAttempts': 0}}\n"
     ]
    }
   ],
   "source": [
    "# Just the correlations\n",
    "import time\n",
    "nowish = int(time.time())\n",
    "hour_ago = nowish - (15*60)\n",
    "\n",
    "q = client.start_query(\n",
    "    logGroupName='/aws/lambda/wrap-and-pub-dev-wrapPub',\n",
    "    startTime=hour_ago,\n",
    "    endTime=nowish,\n",
    "    queryString='filter @message like /PublishContext/ | fields @timestamp, @message | sort @timestamp desc | limit 20',\n",
    "    limit=123\n",
    ")\n",
    "\n",
    "print(q)"
   ]
  },
  {
   "cell_type": "code",
   "execution_count": 20,
   "metadata": {},
   "outputs": [
    {
     "name": "stdout",
     "output_type": "stream",
     "text": [
      "{'results': [[{'field': '@timestamp', 'value': '2021-06-15 20:49:29.648'}, {'field': '@message', 'value': '2021-06-15T20:49:29.648Z\\ta501f020-ee06-45cc-84ec-1dd33e4b1c3a\\tINFO\\t{\"PublishContext\":{\"EventId\":\"b13e360a-1978-4afa-8ad2-835668d22e87\",\"MessageId\":\"80fbef47-d598-5822-871e-b604c1018c44\"}}\\n'}, {'field': '@ptr', 'value': 'Cm4KNQoxNDI3ODQ4NjI3MDg4Oi9hd3MvbGFtYmRhL3dyYXAtYW5kLXB1Yi1kZXYtd3JhcFB1YhACEjUaGAIF9o+xhQAAAAIAXzYiAAYMkSTgAAABUiABKL3WvouhLzCx3L6LoS84EEC4Q0iyWlDWNBANGAE='}], [{'field': '@timestamp', 'value': '2021-06-15 20:49:28.939'}, {'field': '@message', 'value': '2021-06-15T20:49:28.938Z\\t3d1ec3f6-7c28-4d99-b247-08d99bf706b2\\tINFO\\t{\"PublishContext\":{\"EventId\":\"b9122b09-e2f5-4ee7-8404-743837fa44d7\",\"MessageId\":\"9a7d0418-9669-54b5-9c09-5d5b82f1370a\"}}\\n'}, {'field': '@ptr', 'value': 'Cm4KNQoxNDI3ODQ4NjI3MDg4Oi9hd3MvbGFtYmRhL3dyYXAtYW5kLXB1Yi1kZXYtd3JhcFB1YhACEjUaGAIF9o+xhQAAAAIAXzYiAAYMkSTgAAABUiABKL3WvouhLzCx3L6LoS84EEC4Q0iyWlDWNBAFGAE='}]], 'statistics': {'recordsMatched': 2.0, 'recordsScanned': 16.0, 'bytesScanned': 8632.0}, 'status': 'Running', 'ResponseMetadata': {'RequestId': '09e946c8-ade9-4621-acde-dab09f317db8', 'HTTPStatusCode': 200, 'HTTPHeaders': {'x-amzn-requestid': '09e946c8-ade9-4621-acde-dab09f317db8', 'content-type': 'application/x-amz-json-1.1', 'content-length': '1066', 'date': 'Tue, 15 Jun 2021 21:01:48 GMT'}, 'RetryAttempts': 0}}\n"
     ]
    }
   ],
   "source": [
    "r = client.get_query_results(queryId=q['queryId'])\n",
    "print(r)"
   ]
  },
  {
   "cell_type": "markdown",
   "metadata": {},
   "source": [
    "### Clean Up"
   ]
  },
  {
   "cell_type": "code",
   "execution_count": null,
   "metadata": {},
   "outputs": [],
   "source": [
    "try:\n",
    "    sqs.delete_queue(\n",
    "        QueueUrl='https://queue.amazonaws.com/' + account_no + '/sampleQueue'\n",
    "    )\n",
    "    print('queue deleted')\n",
    "except botocore.exceptions.ClientError as error:\n",
    "    if error.response['Error']['Code'] == 'AWS.SimpleQueueService.NonExistentQueue':\n",
    "        print('queue deleted')\n",
    "    else:\n",
    "        raise error"
   ]
  },
  {
   "cell_type": "code",
   "execution_count": null,
   "metadata": {},
   "outputs": [],
   "source": []
  }
 ],
 "metadata": {
  "kernelspec": {
   "display_name": "Python 3",
   "language": "python",
   "name": "python3"
  },
  "language_info": {
   "codemirror_mode": {
    "name": "ipython",
    "version": 3
   },
   "file_extension": ".py",
   "mimetype": "text/x-python",
   "name": "python",
   "nbconvert_exporter": "python",
   "pygments_lexer": "ipython3",
   "version": "3.9.1"
  }
 },
 "nbformat": 4,
 "nbformat_minor": 2
}
